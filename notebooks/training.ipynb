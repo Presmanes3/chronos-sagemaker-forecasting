{
 "cells": [
  {
   "cell_type": "code",
   "execution_count": null,
   "id": "c793cd05",
   "metadata": {},
   "outputs": [
    {
     "name": "stderr",
     "output_type": "stream",
     "text": [
      "INFO:botocore.credentials:Found credentials in shared credentials file: ~/.aws/credentials\n"
     ]
    },
    {
     "name": "stdout",
     "output_type": "stream",
     "text": [
      "✅ Connected to AWS with profile: aws_agora_presmanes\n",
      "Region: eu-west-1\n"
     ]
    }
   ],
   "source": [
    "import boto3\n",
    "import sagemaker\n",
    "import os\n",
    "import sagemaker\n",
    "import pandas as pd\n",
    "from sagemaker import get_execution_role\n",
    "\n",
    "from dotenv import load_dotenv\n",
    "\n",
    "# Load dotenv variables from .env file\n",
    "load_dotenv()\n",
    "\n",
    "# Crear sesión usando el perfil aws_agora_presmanes\n",
    "boto_session = boto3.Session(profile_name=os.environ.get(\"AWS_PROFILE\", \"default\"))\n",
    "\n",
    "session = sagemaker.Session(boto_session=boto_session)\n",
    "region = boto_session.region_name\n",
    "\n",
    "print(\"✅ Connected to AWS with profile:\", boto_session.profile_name)\n",
    "print(\"Region:\", boto_session.region_name)\n"
   ]
  },
  {
   "cell_type": "code",
   "execution_count": 12,
   "id": "ca984f2d",
   "metadata": {},
   "outputs": [
    {
     "name": "stdout",
     "output_type": "stream",
     "text": [
      "Using IAM role: arn:aws:iam::296062581113:role/SageMakerExecutionRole\n"
     ]
    }
   ],
   "source": [
    "session = sagemaker.Session(boto_session=boto_session)\n",
    "\n",
    "role = os.environ.get(\"AWS_SAGEMAKER_ROLE_ARN\", None)\n",
    "print(\"Using IAM role:\", role)"
   ]
  },
  {
   "cell_type": "code",
   "execution_count": 25,
   "id": "5c0d1c3f",
   "metadata": {},
   "outputs": [
    {
     "name": "stderr",
     "output_type": "stream",
     "text": [
      "INFO:sagemaker.image_uris:Ignoring unnecessary instance type: None.\n"
     ]
    },
    {
     "name": "stderr",
     "output_type": "stream",
     "text": [
      "INFO:sagemaker.telemetry.telemetry_logging:SageMaker Python SDK will collect telemetry to help us better understand our user's needs, diagnose issues, and deliver additional features.\n",
      "To opt out of telemetry, please disable via TelemetryOptOut parameter in SDK defaults config. For more information, refer to https://sagemaker.readthedocs.io/en/stable/overview.html#configuring-and-using-defaults-with-the-sagemaker-python-sdk.\n",
      "INFO:sagemaker:Creating training-job with name: sagemaker-xgboost-2025-10-06-17-44-58-424\n"
     ]
    },
    {
     "name": "stdout",
     "output_type": "stream",
     "text": [
      "📤 Uploaded dataset to: s3://sagemaker-eu-west-1-296062581113/xgboost-hello-world/input/sample_train.csv\n",
      "🚀 Launching training job in SageMaker...\n",
      "2025-10-06 17:44:58 Starting - Starting the training job...\n",
      "2025-10-06 17:45:33 Downloading - Downloading input data...\n",
      "2025-10-06 17:46:19 Downloading - Downloading the training image......\n",
      "2025-10-06 17:47:35 Training - Training image download completed. Training in progress.\n",
      "2025-10-06 17:47:35 Uploading - Uploading generated training model/miniconda3/lib/python3.8/site-packages/xgboost/compat.py:36: FutureWarning: pandas.Int64Index is deprecated and will be removed from pandas in a future version. Use pandas.Index with the appropriate dtype instead.\n",
      "  from pandas import MultiIndex, Int64Index\n",
      "[2025-10-06 17:47:30.226 ip-10-0-254-123.eu-west-1.compute.internal:7 INFO utils.py:28] RULE_JOB_STOP_SIGNAL_FILENAME: None\n",
      "[2025-10-06 17:47:30.253 ip-10-0-254-123.eu-west-1.compute.internal:7 INFO profiler_config_parser.py:111] User has disabled profiler.\n",
      "[2025-10-06:17:47:30:INFO] Imported framework sagemaker_xgboost_container.training\n",
      "[2025-10-06:17:47:30:INFO] Failed to parse hyperparameter objective value binary:logistic to Json.\n",
      "Returning the value itself\n",
      "[2025-10-06:17:47:30:INFO] No GPUs detected (normal if no gpus installed)\n",
      "[2025-10-06:17:47:30:INFO] Running XGBoost Sagemaker in algorithm mode\n",
      "[2025-10-06:17:47:30:INFO] Determined 0 GPU(s) available on the instance.\n",
      "[2025-10-06:17:47:30:INFO] Determined delimiter of CSV input is ','\n",
      "[2025-10-06:17:47:30:INFO] files path: /opt/ml/input/data/train\n",
      "[2025-10-06:17:47:30:INFO] Determined delimiter of CSV input is ','\n",
      "[2025-10-06:17:47:30:INFO] Single node training.\n",
      "[2025-10-06:17:47:30:INFO] Train matrix has 6 rows and 2 columns\n",
      "[2025-10-06 17:47:30.678 ip-10-0-254-123.eu-west-1.compute.internal:7 INFO json_config.py:92] Creating hook from json_config at /opt/ml/input/config/debughookconfig.json.\n",
      "[2025-10-06 17:47:30.678 ip-10-0-254-123.eu-west-1.compute.internal:7 INFO hook.py:206] tensorboard_dir has not been set for the hook. SMDebug will not be exporting tensorboard summaries.\n",
      "[2025-10-06 17:47:30.679 ip-10-0-254-123.eu-west-1.compute.internal:7 INFO hook.py:259] Saving to /opt/ml/output/tensors\n",
      "[2025-10-06 17:47:30.679 ip-10-0-254-123.eu-west-1.compute.internal:7 INFO state_store.py:77] The checkpoint config file /opt/ml/input/config/checkpointconfig.json does not exist.\n",
      "[2025-10-06:17:47:30:INFO] Debug hook created from config\n",
      "[17:47:30] WARNING: ../src/learner.cc:1115: Starting in XGBoost 1.3.0, the default evaluation metric used with the objective 'binary:logistic' was changed from 'error' to 'logloss'. Explicitly set eval_metric if you'd like to restore the old behavior.\n",
      "[0]#011train-logloss:0.69315\n",
      "[2025-10-06 17:47:30.692 ip-10-0-254-123.eu-west-1.compute.internal:7 INFO hook.py:427] Monitoring the collections: metrics\n",
      "[2025-10-06 17:47:30.696 ip-10-0-254-123.eu-west-1.compute.internal:7 INFO hook.py:491] Hook is writing from the hook with pid: 7\n",
      "[1]#011train-logloss:0.69315\n",
      "[2]#011train-logloss:0.69315\n",
      "[3]#011train-logloss:0.69315\n",
      "[4]#011train-logloss:0.69315\n",
      "[5]#011train-logloss:0.69315\n",
      "[6]#011train-logloss:0.69315\n",
      "[7]#011train-logloss:0.69315\n",
      "[8]#011train-logloss:0.69315\n",
      "[9]#011train-logloss:0.69315\n",
      "\n",
      "2025-10-06 17:47:53 Completed - Training job completed\n",
      "Training seconds: 140\n",
      "Billable seconds: 140\n",
      "✅ Training job completed!\n",
      "🎯 Model artifacts saved to: s3://sagemaker-eu-west-1-296062581113/xgboost-hello-world/output/sagemaker-xgboost-2025-10-06-17-44-58-424/output/model.tar.gz\n"
     ]
    }
   ],
   "source": [
    "from sagemaker.estimator import Estimator\n",
    "from sagemaker.inputs import TrainingInput\n",
    "\n",
    "# Usa la imagen XGBoost de AWS (ya preinstalada)\n",
    "container = sagemaker.image_uris.retrieve(\"xgboost\", region, version=\"1.5-1\")\n",
    "\n",
    "# Crear dataset simple con label en la primera columna\n",
    "df = pd.DataFrame({\n",
    "    \"label\": [0, 1, 0, 1, 1, 0],\n",
    "    \"feature1\": [0.1, 0.5, 0.2, 0.8, 0.3, 0.9],\n",
    "    \"feature2\": [1.1, 0.7, 0.2, 1.0, 0.5, 0.3],\n",
    "})\n",
    "\n",
    "# Guardar sin cabecera y sin índice\n",
    "df.to_csv(\"./sample_train.csv\", index=False, header=False)\n",
    "\n",
    "# Crear el estimador\n",
    "estimator = Estimator(\n",
    "    image_uri=container,\n",
    "    role=role,\n",
    "    instance_count=1,\n",
    "    instance_type=\"ml.m5.large\",\n",
    "    output_path=f\"s3://{session.default_bucket()}/xgboost-hello-world/output\",\n",
    "    sagemaker_session=session,\n",
    "    hyperparameters={\n",
    "        \"objective\": \"binary:logistic\",  # clasificación binaria\n",
    "        \"num_round\": 10                  # número de iteraciones\n",
    "    }\n",
    ")\n",
    "\n",
    "# Subir un dataset de ejemplo a S3\n",
    "s3_train_path = session.upload_data(\"sample_train.csv\", key_prefix=\"xgboost-hello-world/input\")\n",
    "\n",
    "print(f\"📤 Uploaded dataset to: {s3_train_path}\")\n",
    "\n",
    "# Lanza el job de entrenamiento\n",
    "print(\"🚀 Launching training job in SageMaker...\")\n",
    "train_input = TrainingInput(\n",
    "    s3_data=s3_train_path,\n",
    "    content_type=\"text/csv\"   # 👈 le decimos que es CSV\n",
    ")\n",
    "estimator.fit(\n",
    "    {\"train\": train_input}\n",
    ")\n",
    "\n",
    "print(\"✅ Training job completed!\")\n",
    "print(f\"🎯 Model artifacts saved to: {estimator.model_data}\")"
   ]
  }
 ],
 "metadata": {
  "kernelspec": {
   "display_name": ".venv",
   "language": "python",
   "name": "python3"
  },
  "language_info": {
   "codemirror_mode": {
    "name": "ipython",
    "version": 3
   },
   "file_extension": ".py",
   "mimetype": "text/x-python",
   "name": "python",
   "nbconvert_exporter": "python",
   "pygments_lexer": "ipython3",
   "version": "3.12.7"
  }
 },
 "nbformat": 4,
 "nbformat_minor": 5
}
